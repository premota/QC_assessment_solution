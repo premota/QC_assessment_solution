{
 "cells": [
  {
   "cell_type": "markdown",
   "id": "63c967bb-8903-4ccd-ba90-b739210ba71e",
   "metadata": {},
   "source": [
    "# Data Cleaning"
   ]
  },
  {
   "cell_type": "markdown",
   "id": "b801c5b0-c37b-466c-9d70-8d17e3142364",
   "metadata": {
    "tags": []
   },
   "source": [
    "## Import Packages"
   ]
  },
  {
   "cell_type": "code",
   "execution_count": 1,
   "id": "d42eee2d-531e-43df-ab35-55490591448f",
   "metadata": {
    "tags": []
   },
   "outputs": [],
   "source": [
    "import pandas as pd\n",
    "import numpy as np\n",
    "import seaborn as sns\n",
    "import matplotlib.pyplot as plt"
   ]
  },
  {
   "cell_type": "markdown",
   "id": "94648835-b3ee-4002-86c7-fd33ae49f04a",
   "metadata": {
    "tags": []
   },
   "source": [
    "## Read data"
   ]
  },
  {
   "cell_type": "code",
   "execution_count": 2,
   "id": "9fd6fb01-0af8-4f43-800b-a89df69e2bb8",
   "metadata": {
    "tags": []
   },
   "outputs": [],
   "source": [
    "# read data into csv\n",
    "data = pd.read_csv(\"../dataset/classification_data.csv\")"
   ]
  },
  {
   "cell_type": "code",
   "execution_count": 3,
   "id": "1eef5ae4-49a9-4d1e-ab46-7b6e1d83e6fe",
   "metadata": {
    "tags": []
   },
   "outputs": [
    {
     "data": {
      "text/html": [
       "<div>\n",
       "<style scoped>\n",
       "    .dataframe tbody tr th:only-of-type {\n",
       "        vertical-align: middle;\n",
       "    }\n",
       "\n",
       "    .dataframe tbody tr th {\n",
       "        vertical-align: top;\n",
       "    }\n",
       "\n",
       "    .dataframe thead th {\n",
       "        text-align: right;\n",
       "    }\n",
       "</style>\n",
       "<table border=\"1\" class=\"dataframe\">\n",
       "  <thead>\n",
       "    <tr style=\"text-align: right;\">\n",
       "      <th></th>\n",
       "      <th>user_id</th>\n",
       "      <th>label</th>\n",
       "      <th>Account type</th>\n",
       "      <th>Duration of Credit (month)</th>\n",
       "      <th>Payment Status of Previous Credit</th>\n",
       "      <th>Purpose</th>\n",
       "      <th>Credit Amount</th>\n",
       "      <th>Savings type</th>\n",
       "      <th>Length of current employment</th>\n",
       "      <th>Instalment per cent</th>\n",
       "      <th>...</th>\n",
       "      <th>Duration in Current address</th>\n",
       "      <th>Most valuable available asset</th>\n",
       "      <th>Age</th>\n",
       "      <th>Concurrent Credits</th>\n",
       "      <th>Type of apartment</th>\n",
       "      <th>No of Credits at this Bank</th>\n",
       "      <th>Occupation</th>\n",
       "      <th>No of dependents</th>\n",
       "      <th>Telephone</th>\n",
       "      <th>Foreign Worker</th>\n",
       "    </tr>\n",
       "  </thead>\n",
       "  <tbody>\n",
       "    <tr>\n",
       "      <th>0</th>\n",
       "      <td>586266</td>\n",
       "      <td>1</td>\n",
       "      <td>1</td>\n",
       "      <td>18</td>\n",
       "      <td>4</td>\n",
       "      <td>2</td>\n",
       "      <td>1049</td>\n",
       "      <td>1</td>\n",
       "      <td>2</td>\n",
       "      <td>4</td>\n",
       "      <td>...</td>\n",
       "      <td>4</td>\n",
       "      <td>2</td>\n",
       "      <td>21</td>\n",
       "      <td>3</td>\n",
       "      <td>1</td>\n",
       "      <td>1</td>\n",
       "      <td>3</td>\n",
       "      <td>1</td>\n",
       "      <td>1</td>\n",
       "      <td>1</td>\n",
       "    </tr>\n",
       "  </tbody>\n",
       "</table>\n",
       "<p>1 rows × 22 columns</p>\n",
       "</div>"
      ],
      "text/plain": [
       "   user_id  label  Account type  Duration of Credit (month)  \\\n",
       "0   586266      1             1                          18   \n",
       "\n",
       "   Payment Status of Previous Credit  Purpose  Credit Amount  Savings type  \\\n",
       "0                                  4        2           1049             1   \n",
       "\n",
       "   Length of current employment  Instalment per cent  ...  \\\n",
       "0                             2                    4  ...   \n",
       "\n",
       "   Duration in Current address  Most valuable available asset  Age  \\\n",
       "0                            4                              2   21   \n",
       "\n",
       "   Concurrent Credits  Type of apartment  No of Credits at this Bank  \\\n",
       "0                   3                  1                           1   \n",
       "\n",
       "   Occupation  No of dependents  Telephone  Foreign Worker  \n",
       "0           3                 1          1               1  \n",
       "\n",
       "[1 rows x 22 columns]"
      ]
     },
     "execution_count": 3,
     "metadata": {},
     "output_type": "execute_result"
    }
   ],
   "source": [
    "data.head(1)"
   ]
  },
  {
   "cell_type": "code",
   "execution_count": 4,
   "id": "504cfee0-b8f9-4664-9684-f4cd6d89462f",
   "metadata": {
    "tags": []
   },
   "outputs": [
    {
     "data": {
      "text/plain": [
       "(1000, 22)"
      ]
     },
     "execution_count": 4,
     "metadata": {},
     "output_type": "execute_result"
    }
   ],
   "source": [
    "# check data size\n",
    "data.shape"
   ]
  },
  {
   "cell_type": "markdown",
   "id": "ddca3041-395f-4437-8790-22334e1b0fa1",
   "metadata": {
    "tags": []
   },
   "source": [
    "## check data types"
   ]
  },
  {
   "cell_type": "code",
   "execution_count": 5,
   "id": "85547cdd-daa9-401e-bce4-86e46e2bfe4f",
   "metadata": {
    "tags": []
   },
   "outputs": [
    {
     "data": {
      "text/plain": [
       "user_id                              int64\n",
       "label                                int64\n",
       "Account type                         int64\n",
       "Duration of Credit (month)           int64\n",
       "Payment Status of Previous Credit    int64\n",
       "Purpose                              int64\n",
       "Credit Amount                        int64\n",
       "Savings type                         int64\n",
       "Length of current employment         int64\n",
       "Instalment per cent                  int64\n",
       "Marital Status                       int64\n",
       "Guarantors                           int64\n",
       "Duration in Current address          int64\n",
       "Most valuable available asset        int64\n",
       "Age                                  int64\n",
       "Concurrent Credits                   int64\n",
       "Type of apartment                    int64\n",
       "No of Credits at this Bank           int64\n",
       "Occupation                           int64\n",
       "No of dependents                     int64\n",
       "Telephone                            int64\n",
       "Foreign Worker                       int64\n",
       "dtype: object"
      ]
     },
     "execution_count": 5,
     "metadata": {},
     "output_type": "execute_result"
    }
   ],
   "source": [
    "data.dtypes"
   ]
  },
  {
   "cell_type": "code",
   "execution_count": null,
   "id": "aed9a812-339e-41c1-9561-511bb02da593",
   "metadata": {},
   "outputs": [],
   "source": []
  },
  {
   "cell_type": "markdown",
   "id": "27e3bbfb-4786-4ce0-b016-3e842ae52bbe",
   "metadata": {},
   "source": [
    "**Observation**\n",
    "\n",
    "All features are numerical dtypes"
   ]
  },
  {
   "cell_type": "markdown",
   "id": "d044cd00-b5e8-4118-a921-7706f8ba02a8",
   "metadata": {},
   "source": [
    "\n",
    "**CATEGORICAL FEATURES:**\n",
    "\n",
    "**Ordinal Categorical features**\n",
    "- Payment Status of Previous Credit\n",
    "- Most valuable available asset\n",
    "\n",
    "**Nominal Categorical features**\n",
    "- Account Type.\n",
    "- Purpose.\n",
    "- Savings Type.\n",
    "- Type of Apartment\n",
    "- Marital Status.\n",
    "- Occupation.\n",
    "- Foreign Worker."
   ]
  },
  {
   "cell_type": "markdown",
   "id": "f5b7d82a-63a0-412a-80fe-74dc49e51319",
   "metadata": {},
   "source": [
    "The ordinal categorical features can be left as label encoded numerical data, but the nominal categorical features has to be converted to strings and apply one-hot encoding technique to it"
   ]
  },
  {
   "cell_type": "markdown",
   "id": "0e0e76a1-21c7-403c-82ee-51e44709297f",
   "metadata": {
    "tags": []
   },
   "source": [
    "## Convert nominal categorical features to object dtypes"
   ]
  },
  {
   "cell_type": "code",
   "execution_count": 6,
   "id": "d677bf95-8eb3-475f-b3d3-2ad3b1428f1c",
   "metadata": {},
   "outputs": [],
   "source": [
    "nominal_cols = [\"Account type\",\"Purpose\",\"Savings type\",\"Type of apartment\",\n",
    "               \"Marital Status\",\"Occupation\",\"Foreign Worker\"]"
   ]
  },
  {
   "cell_type": "code",
   "execution_count": 7,
   "id": "e3807b51-7c12-4046-b4ca-939d1eac8b1d",
   "metadata": {},
   "outputs": [],
   "source": [
    "for feature in nominal_cols:\n",
    "    data[feature] = data[feature].astype(object)"
   ]
  },
  {
   "cell_type": "code",
   "execution_count": 8,
   "id": "b8a4b6e7-78e0-4b84-befb-e51521bbd912",
   "metadata": {},
   "outputs": [
    {
     "data": {
      "text/plain": [
       "user_id                               int64\n",
       "label                                 int64\n",
       "Account type                         object\n",
       "Duration of Credit (month)            int64\n",
       "Payment Status of Previous Credit     int64\n",
       "Purpose                              object\n",
       "Credit Amount                         int64\n",
       "Savings type                         object\n",
       "Length of current employment          int64\n",
       "Instalment per cent                   int64\n",
       "Marital Status                       object\n",
       "Guarantors                            int64\n",
       "Duration in Current address           int64\n",
       "Most valuable available asset         int64\n",
       "Age                                   int64\n",
       "Concurrent Credits                    int64\n",
       "Type of apartment                    object\n",
       "No of Credits at this Bank            int64\n",
       "Occupation                           object\n",
       "No of dependents                      int64\n",
       "Telephone                             int64\n",
       "Foreign Worker                       object\n",
       "dtype: object"
      ]
     },
     "execution_count": 8,
     "metadata": {},
     "output_type": "execute_result"
    }
   ],
   "source": [
    "data.dtypes"
   ]
  },
  {
   "cell_type": "code",
   "execution_count": null,
   "id": "ed5bd210-0a00-430b-8989-5f6726e26637",
   "metadata": {},
   "outputs": [],
   "source": []
  },
  {
   "cell_type": "markdown",
   "id": "2761fcf0-4786-4d0a-87e8-fd68f625fb97",
   "metadata": {
    "tags": []
   },
   "source": [
    "## Check for missing values"
   ]
  },
  {
   "cell_type": "code",
   "execution_count": 9,
   "id": "54210d9e-6384-4855-8266-2092bd5f500a",
   "metadata": {
    "tags": []
   },
   "outputs": [
    {
     "data": {
      "text/plain": [
       "user_id                              0\n",
       "label                                0\n",
       "Account type                         0\n",
       "Duration of Credit (month)           0\n",
       "Payment Status of Previous Credit    0\n",
       "Purpose                              0\n",
       "Credit Amount                        0\n",
       "Savings type                         0\n",
       "Length of current employment         0\n",
       "Instalment per cent                  0\n",
       "Marital Status                       0\n",
       "Guarantors                           0\n",
       "Duration in Current address          0\n",
       "Most valuable available asset        0\n",
       "Age                                  0\n",
       "Concurrent Credits                   0\n",
       "Type of apartment                    0\n",
       "No of Credits at this Bank           0\n",
       "Occupation                           0\n",
       "No of dependents                     0\n",
       "Telephone                            0\n",
       "Foreign Worker                       0\n",
       "dtype: int64"
      ]
     },
     "execution_count": 9,
     "metadata": {},
     "output_type": "execute_result"
    }
   ],
   "source": [
    "data.isnull().sum()"
   ]
  },
  {
   "cell_type": "markdown",
   "id": "1a200e24-6459-48b7-a5f4-767fe0600146",
   "metadata": {},
   "source": [
    "No missing values"
   ]
  },
  {
   "cell_type": "markdown",
   "id": "466264a4-2c00-412f-9b2d-761a41522384",
   "metadata": {
    "tags": []
   },
   "source": [
    "## check for duplicates using the user_id"
   ]
  },
  {
   "cell_type": "code",
   "execution_count": 10,
   "id": "026d202e-9441-4472-806a-062e20bb9037",
   "metadata": {
    "tags": []
   },
   "outputs": [
    {
     "data": {
      "text/plain": [
       "1000"
      ]
     },
     "execution_count": 10,
     "metadata": {},
     "output_type": "execute_result"
    }
   ],
   "source": [
    "data[\"user_id\"].nunique()"
   ]
  },
  {
   "cell_type": "markdown",
   "id": "4cf15c3a-e3f0-4597-bb51-e69602e33d1f",
   "metadata": {},
   "source": [
    "Data has 1000 unique user_id and 1000 records of data, showing the absence of duplicate entries"
   ]
  },
  {
   "cell_type": "markdown",
   "id": "fa6c99af-e458-446d-ae0e-53f47ba2cfd6",
   "metadata": {
    "tags": []
   },
   "source": [
    "## Remove redundant features "
   ]
  },
  {
   "cell_type": "code",
   "execution_count": 11,
   "id": "e522dba9-299c-4f08-9dc7-dbf1c78b2602",
   "metadata": {
    "tags": []
   },
   "outputs": [],
   "source": [
    "data = data.drop([\"user_id\", \"Telephone\"], axis = 1)"
   ]
  },
  {
   "cell_type": "code",
   "execution_count": 12,
   "id": "093b8e41-6ded-4b40-bb39-0a61a3aeb13f",
   "metadata": {
    "tags": []
   },
   "outputs": [
    {
     "data": {
      "text/html": [
       "<div>\n",
       "<style scoped>\n",
       "    .dataframe tbody tr th:only-of-type {\n",
       "        vertical-align: middle;\n",
       "    }\n",
       "\n",
       "    .dataframe tbody tr th {\n",
       "        vertical-align: top;\n",
       "    }\n",
       "\n",
       "    .dataframe thead th {\n",
       "        text-align: right;\n",
       "    }\n",
       "</style>\n",
       "<table border=\"1\" class=\"dataframe\">\n",
       "  <thead>\n",
       "    <tr style=\"text-align: right;\">\n",
       "      <th></th>\n",
       "      <th>label</th>\n",
       "      <th>Account type</th>\n",
       "      <th>Duration of Credit (month)</th>\n",
       "      <th>Payment Status of Previous Credit</th>\n",
       "      <th>Purpose</th>\n",
       "      <th>Credit Amount</th>\n",
       "      <th>Savings type</th>\n",
       "      <th>Length of current employment</th>\n",
       "      <th>Instalment per cent</th>\n",
       "      <th>Marital Status</th>\n",
       "      <th>Guarantors</th>\n",
       "      <th>Duration in Current address</th>\n",
       "      <th>Most valuable available asset</th>\n",
       "      <th>Age</th>\n",
       "      <th>Concurrent Credits</th>\n",
       "      <th>Type of apartment</th>\n",
       "      <th>No of Credits at this Bank</th>\n",
       "      <th>Occupation</th>\n",
       "      <th>No of dependents</th>\n",
       "      <th>Foreign Worker</th>\n",
       "    </tr>\n",
       "  </thead>\n",
       "  <tbody>\n",
       "    <tr>\n",
       "      <th>0</th>\n",
       "      <td>1</td>\n",
       "      <td>1</td>\n",
       "      <td>18</td>\n",
       "      <td>4</td>\n",
       "      <td>2</td>\n",
       "      <td>1049</td>\n",
       "      <td>1</td>\n",
       "      <td>2</td>\n",
       "      <td>4</td>\n",
       "      <td>2</td>\n",
       "      <td>1</td>\n",
       "      <td>4</td>\n",
       "      <td>2</td>\n",
       "      <td>21</td>\n",
       "      <td>3</td>\n",
       "      <td>1</td>\n",
       "      <td>1</td>\n",
       "      <td>3</td>\n",
       "      <td>1</td>\n",
       "      <td>1</td>\n",
       "    </tr>\n",
       "    <tr>\n",
       "      <th>1</th>\n",
       "      <td>1</td>\n",
       "      <td>1</td>\n",
       "      <td>9</td>\n",
       "      <td>4</td>\n",
       "      <td>0</td>\n",
       "      <td>2799</td>\n",
       "      <td>1</td>\n",
       "      <td>3</td>\n",
       "      <td>2</td>\n",
       "      <td>3</td>\n",
       "      <td>1</td>\n",
       "      <td>2</td>\n",
       "      <td>1</td>\n",
       "      <td>36</td>\n",
       "      <td>3</td>\n",
       "      <td>1</td>\n",
       "      <td>2</td>\n",
       "      <td>3</td>\n",
       "      <td>2</td>\n",
       "      <td>1</td>\n",
       "    </tr>\n",
       "    <tr>\n",
       "      <th>2</th>\n",
       "      <td>1</td>\n",
       "      <td>2</td>\n",
       "      <td>12</td>\n",
       "      <td>2</td>\n",
       "      <td>9</td>\n",
       "      <td>841</td>\n",
       "      <td>2</td>\n",
       "      <td>4</td>\n",
       "      <td>2</td>\n",
       "      <td>2</td>\n",
       "      <td>1</td>\n",
       "      <td>4</td>\n",
       "      <td>1</td>\n",
       "      <td>23</td>\n",
       "      <td>3</td>\n",
       "      <td>1</td>\n",
       "      <td>1</td>\n",
       "      <td>2</td>\n",
       "      <td>1</td>\n",
       "      <td>1</td>\n",
       "    </tr>\n",
       "    <tr>\n",
       "      <th>3</th>\n",
       "      <td>1</td>\n",
       "      <td>1</td>\n",
       "      <td>12</td>\n",
       "      <td>4</td>\n",
       "      <td>0</td>\n",
       "      <td>2122</td>\n",
       "      <td>1</td>\n",
       "      <td>3</td>\n",
       "      <td>3</td>\n",
       "      <td>3</td>\n",
       "      <td>1</td>\n",
       "      <td>2</td>\n",
       "      <td>1</td>\n",
       "      <td>39</td>\n",
       "      <td>3</td>\n",
       "      <td>1</td>\n",
       "      <td>2</td>\n",
       "      <td>2</td>\n",
       "      <td>2</td>\n",
       "      <td>2</td>\n",
       "    </tr>\n",
       "    <tr>\n",
       "      <th>4</th>\n",
       "      <td>1</td>\n",
       "      <td>1</td>\n",
       "      <td>12</td>\n",
       "      <td>4</td>\n",
       "      <td>0</td>\n",
       "      <td>2171</td>\n",
       "      <td>1</td>\n",
       "      <td>3</td>\n",
       "      <td>4</td>\n",
       "      <td>3</td>\n",
       "      <td>1</td>\n",
       "      <td>4</td>\n",
       "      <td>2</td>\n",
       "      <td>38</td>\n",
       "      <td>1</td>\n",
       "      <td>2</td>\n",
       "      <td>2</td>\n",
       "      <td>2</td>\n",
       "      <td>1</td>\n",
       "      <td>2</td>\n",
       "    </tr>\n",
       "  </tbody>\n",
       "</table>\n",
       "</div>"
      ],
      "text/plain": [
       "   label Account type  Duration of Credit (month)  \\\n",
       "0      1            1                          18   \n",
       "1      1            1                           9   \n",
       "2      1            2                          12   \n",
       "3      1            1                          12   \n",
       "4      1            1                          12   \n",
       "\n",
       "   Payment Status of Previous Credit Purpose  Credit Amount Savings type  \\\n",
       "0                                  4       2           1049            1   \n",
       "1                                  4       0           2799            1   \n",
       "2                                  2       9            841            2   \n",
       "3                                  4       0           2122            1   \n",
       "4                                  4       0           2171            1   \n",
       "\n",
       "   Length of current employment  Instalment per cent Marital Status  \\\n",
       "0                             2                    4              2   \n",
       "1                             3                    2              3   \n",
       "2                             4                    2              2   \n",
       "3                             3                    3              3   \n",
       "4                             3                    4              3   \n",
       "\n",
       "   Guarantors  Duration in Current address  Most valuable available asset  \\\n",
       "0           1                            4                              2   \n",
       "1           1                            2                              1   \n",
       "2           1                            4                              1   \n",
       "3           1                            2                              1   \n",
       "4           1                            4                              2   \n",
       "\n",
       "   Age  Concurrent Credits Type of apartment  No of Credits at this Bank  \\\n",
       "0   21                   3                 1                           1   \n",
       "1   36                   3                 1                           2   \n",
       "2   23                   3                 1                           1   \n",
       "3   39                   3                 1                           2   \n",
       "4   38                   1                 2                           2   \n",
       "\n",
       "  Occupation  No of dependents Foreign Worker  \n",
       "0          3                 1              1  \n",
       "1          3                 2              1  \n",
       "2          2                 1              1  \n",
       "3          2                 2              2  \n",
       "4          2                 1              2  "
      ]
     },
     "execution_count": 12,
     "metadata": {},
     "output_type": "execute_result"
    }
   ],
   "source": [
    "data.head()"
   ]
  },
  {
   "cell_type": "code",
   "execution_count": null,
   "id": "8ad31465-679e-4657-a179-7c4487e1d9e8",
   "metadata": {},
   "outputs": [],
   "source": []
  },
  {
   "cell_type": "markdown",
   "id": "6481ba45-9174-41d2-8cba-9c51e0adff36",
   "metadata": {
    "tags": []
   },
   "source": [
    "## check descriptive statistics"
   ]
  },
  {
   "cell_type": "code",
   "execution_count": 13,
   "id": "fde3df39-cc4a-4240-b9e2-db31ed21c41a",
   "metadata": {
    "tags": []
   },
   "outputs": [
    {
     "data": {
      "text/html": [
       "<div>\n",
       "<style scoped>\n",
       "    .dataframe tbody tr th:only-of-type {\n",
       "        vertical-align: middle;\n",
       "    }\n",
       "\n",
       "    .dataframe tbody tr th {\n",
       "        vertical-align: top;\n",
       "    }\n",
       "\n",
       "    .dataframe thead th {\n",
       "        text-align: right;\n",
       "    }\n",
       "</style>\n",
       "<table border=\"1\" class=\"dataframe\">\n",
       "  <thead>\n",
       "    <tr style=\"text-align: right;\">\n",
       "      <th></th>\n",
       "      <th>count</th>\n",
       "      <th>mean</th>\n",
       "      <th>std</th>\n",
       "      <th>min</th>\n",
       "      <th>25%</th>\n",
       "      <th>50%</th>\n",
       "      <th>75%</th>\n",
       "      <th>max</th>\n",
       "    </tr>\n",
       "  </thead>\n",
       "  <tbody>\n",
       "    <tr>\n",
       "      <th>label</th>\n",
       "      <td>1000.0</td>\n",
       "      <td>0.700</td>\n",
       "      <td>0.458487</td>\n",
       "      <td>0.0</td>\n",
       "      <td>0.0</td>\n",
       "      <td>1.0</td>\n",
       "      <td>1.00</td>\n",
       "      <td>1.0</td>\n",
       "    </tr>\n",
       "    <tr>\n",
       "      <th>Duration of Credit (month)</th>\n",
       "      <td>1000.0</td>\n",
       "      <td>20.903</td>\n",
       "      <td>12.058814</td>\n",
       "      <td>4.0</td>\n",
       "      <td>12.0</td>\n",
       "      <td>18.0</td>\n",
       "      <td>24.00</td>\n",
       "      <td>72.0</td>\n",
       "    </tr>\n",
       "    <tr>\n",
       "      <th>Payment Status of Previous Credit</th>\n",
       "      <td>1000.0</td>\n",
       "      <td>2.545</td>\n",
       "      <td>1.083120</td>\n",
       "      <td>0.0</td>\n",
       "      <td>2.0</td>\n",
       "      <td>2.0</td>\n",
       "      <td>4.00</td>\n",
       "      <td>4.0</td>\n",
       "    </tr>\n",
       "    <tr>\n",
       "      <th>Credit Amount</th>\n",
       "      <td>1000.0</td>\n",
       "      <td>3271.248</td>\n",
       "      <td>2822.751760</td>\n",
       "      <td>250.0</td>\n",
       "      <td>1365.5</td>\n",
       "      <td>2319.5</td>\n",
       "      <td>3972.25</td>\n",
       "      <td>18424.0</td>\n",
       "    </tr>\n",
       "    <tr>\n",
       "      <th>Length of current employment</th>\n",
       "      <td>1000.0</td>\n",
       "      <td>3.384</td>\n",
       "      <td>1.208306</td>\n",
       "      <td>1.0</td>\n",
       "      <td>3.0</td>\n",
       "      <td>3.0</td>\n",
       "      <td>5.00</td>\n",
       "      <td>5.0</td>\n",
       "    </tr>\n",
       "    <tr>\n",
       "      <th>Instalment per cent</th>\n",
       "      <td>1000.0</td>\n",
       "      <td>2.973</td>\n",
       "      <td>1.118715</td>\n",
       "      <td>1.0</td>\n",
       "      <td>2.0</td>\n",
       "      <td>3.0</td>\n",
       "      <td>4.00</td>\n",
       "      <td>4.0</td>\n",
       "    </tr>\n",
       "    <tr>\n",
       "      <th>Guarantors</th>\n",
       "      <td>1000.0</td>\n",
       "      <td>1.145</td>\n",
       "      <td>0.477706</td>\n",
       "      <td>1.0</td>\n",
       "      <td>1.0</td>\n",
       "      <td>1.0</td>\n",
       "      <td>1.00</td>\n",
       "      <td>3.0</td>\n",
       "    </tr>\n",
       "    <tr>\n",
       "      <th>Duration in Current address</th>\n",
       "      <td>1000.0</td>\n",
       "      <td>2.845</td>\n",
       "      <td>1.103718</td>\n",
       "      <td>1.0</td>\n",
       "      <td>2.0</td>\n",
       "      <td>3.0</td>\n",
       "      <td>4.00</td>\n",
       "      <td>4.0</td>\n",
       "    </tr>\n",
       "    <tr>\n",
       "      <th>Most valuable available asset</th>\n",
       "      <td>1000.0</td>\n",
       "      <td>2.358</td>\n",
       "      <td>1.050209</td>\n",
       "      <td>1.0</td>\n",
       "      <td>1.0</td>\n",
       "      <td>2.0</td>\n",
       "      <td>3.00</td>\n",
       "      <td>4.0</td>\n",
       "    </tr>\n",
       "    <tr>\n",
       "      <th>Age</th>\n",
       "      <td>1000.0</td>\n",
       "      <td>35.542</td>\n",
       "      <td>11.352670</td>\n",
       "      <td>19.0</td>\n",
       "      <td>27.0</td>\n",
       "      <td>33.0</td>\n",
       "      <td>42.00</td>\n",
       "      <td>75.0</td>\n",
       "    </tr>\n",
       "    <tr>\n",
       "      <th>Concurrent Credits</th>\n",
       "      <td>1000.0</td>\n",
       "      <td>2.675</td>\n",
       "      <td>0.705601</td>\n",
       "      <td>1.0</td>\n",
       "      <td>3.0</td>\n",
       "      <td>3.0</td>\n",
       "      <td>3.00</td>\n",
       "      <td>3.0</td>\n",
       "    </tr>\n",
       "    <tr>\n",
       "      <th>No of Credits at this Bank</th>\n",
       "      <td>1000.0</td>\n",
       "      <td>1.407</td>\n",
       "      <td>0.577654</td>\n",
       "      <td>1.0</td>\n",
       "      <td>1.0</td>\n",
       "      <td>1.0</td>\n",
       "      <td>2.00</td>\n",
       "      <td>4.0</td>\n",
       "    </tr>\n",
       "    <tr>\n",
       "      <th>No of dependents</th>\n",
       "      <td>1000.0</td>\n",
       "      <td>1.155</td>\n",
       "      <td>0.362086</td>\n",
       "      <td>1.0</td>\n",
       "      <td>1.0</td>\n",
       "      <td>1.0</td>\n",
       "      <td>1.00</td>\n",
       "      <td>2.0</td>\n",
       "    </tr>\n",
       "  </tbody>\n",
       "</table>\n",
       "</div>"
      ],
      "text/plain": [
       "                                    count      mean          std    min  \\\n",
       "label                              1000.0     0.700     0.458487    0.0   \n",
       "Duration of Credit (month)         1000.0    20.903    12.058814    4.0   \n",
       "Payment Status of Previous Credit  1000.0     2.545     1.083120    0.0   \n",
       "Credit Amount                      1000.0  3271.248  2822.751760  250.0   \n",
       "Length of current employment       1000.0     3.384     1.208306    1.0   \n",
       "Instalment per cent                1000.0     2.973     1.118715    1.0   \n",
       "Guarantors                         1000.0     1.145     0.477706    1.0   \n",
       "Duration in Current address        1000.0     2.845     1.103718    1.0   \n",
       "Most valuable available asset      1000.0     2.358     1.050209    1.0   \n",
       "Age                                1000.0    35.542    11.352670   19.0   \n",
       "Concurrent Credits                 1000.0     2.675     0.705601    1.0   \n",
       "No of Credits at this Bank         1000.0     1.407     0.577654    1.0   \n",
       "No of dependents                   1000.0     1.155     0.362086    1.0   \n",
       "\n",
       "                                      25%     50%      75%      max  \n",
       "label                                 0.0     1.0     1.00      1.0  \n",
       "Duration of Credit (month)           12.0    18.0    24.00     72.0  \n",
       "Payment Status of Previous Credit     2.0     2.0     4.00      4.0  \n",
       "Credit Amount                      1365.5  2319.5  3972.25  18424.0  \n",
       "Length of current employment          3.0     3.0     5.00      5.0  \n",
       "Instalment per cent                   2.0     3.0     4.00      4.0  \n",
       "Guarantors                            1.0     1.0     1.00      3.0  \n",
       "Duration in Current address           2.0     3.0     4.00      4.0  \n",
       "Most valuable available asset         1.0     2.0     3.00      4.0  \n",
       "Age                                  27.0    33.0    42.00     75.0  \n",
       "Concurrent Credits                    3.0     3.0     3.00      3.0  \n",
       "No of Credits at this Bank            1.0     1.0     2.00      4.0  \n",
       "No of dependents                      1.0     1.0     1.00      2.0  "
      ]
     },
     "execution_count": 13,
     "metadata": {},
     "output_type": "execute_result"
    }
   ],
   "source": [
    "data.describe().T"
   ]
  },
  {
   "cell_type": "markdown",
   "id": "c387b47d-757e-4792-ade5-7bfa3556ea20",
   "metadata": {
    "tags": []
   },
   "source": [
    "No Anomaly was noticed from the descriptive statistics"
   ]
  },
  {
   "cell_type": "code",
   "execution_count": null,
   "id": "713c6696-5901-4881-b2b5-6ae57b595e3c",
   "metadata": {},
   "outputs": [],
   "source": []
  },
  {
   "cell_type": "code",
   "execution_count": 14,
   "id": "73f10386-087b-4bfa-b057-96b21979b387",
   "metadata": {
    "tags": []
   },
   "outputs": [
    {
     "data": {
      "text/plain": [
       "Index(['label', 'Account type', 'Duration of Credit (month)',\n",
       "       'Payment Status of Previous Credit', 'Purpose', 'Credit Amount',\n",
       "       'Savings type', 'Length of current employment', 'Instalment per cent',\n",
       "       'Marital Status', 'Guarantors', 'Duration in Current address',\n",
       "       'Most valuable available asset', 'Age', 'Concurrent Credits',\n",
       "       'Type of apartment', 'No of Credits at this Bank', 'Occupation',\n",
       "       'No of dependents', 'Foreign Worker'],\n",
       "      dtype='object')"
      ]
     },
     "execution_count": 14,
     "metadata": {},
     "output_type": "execute_result"
    }
   ],
   "source": [
    "data.columns"
   ]
  },
  {
   "cell_type": "markdown",
   "id": "4cd9c0e7-48af-4b9a-83d7-4f624f4b772e",
   "metadata": {
    "tags": []
   },
   "source": [
    "## Outlier detection"
   ]
  },
  {
   "cell_type": "code",
   "execution_count": 15,
   "id": "e717e997-1189-4cbb-9be1-6c7a10e2c04b",
   "metadata": {
    "tags": []
   },
   "outputs": [],
   "source": [
    "features = [\"Duration of Credit (month)\",'Credit Amount','Length of current employment','Instalment per cent',\n",
    "'Guarantors','Duration in Current address', 'Age', 'Concurrent Credits','No of Credits at this Bank', 'No of dependents']"
   ]
  },
  {
   "cell_type": "code",
   "execution_count": 16,
   "id": "dc75e0fc-42c3-4a8e-91b6-b6c9cd2b5f98",
   "metadata": {
    "tags": []
   },
   "outputs": [],
   "source": [
    "def create_hist_plot(data_frame, feature_list):\n",
    "    num_features = len(feature_list)\n",
    "    num_rows = (num_features + 1) // 2\n",
    "    \n",
    "    fig, axes = plt.subplots(num_rows, 2, figsize=(10,8))\n",
    "    \n",
    "    # Flatten the axes array for easy iteration\n",
    "    axes = axes.flatten()\n",
    "    \n",
    "    # Iterate over each feature and create a boxplot\n",
    "    for i, feature in enumerate(feature_list):\n",
    "        ax = axes[i]\n",
    "        sns.histplot(data_frame[feature], color='skyblue',ax=ax)\n",
    "        plt.title(f'Distribution of {feature}')\n",
    "        plt.xlabel(feature)\n",
    "        plt.ylabel('Count')\n",
    "    plt.tight_layout()\n",
    "    plt.show()"
   ]
  },
  {
   "cell_type": "code",
   "execution_count": 17,
   "id": "cc2dd8a9-63b3-4200-8014-4dc2369c757a",
   "metadata": {
    "tags": []
   },
   "outputs": [
    {
     "data": {
      "image/png": "[encoded data removed]",
      "text/plain": [
       "<Figure size 1000x800 with 10 Axes>"
      ]
     },
     "metadata": {},
     "output_type": "display_data"
    }
   ],
   "source": [
    "create_hist_plot(data_frame= data, feature_list= features)"
   ]
  },
  {
   "cell_type": "code",
   "execution_count": null,
   "id": "a4b528b5-989d-44b5-9978-47a3b13efc68",
   "metadata": {},
   "outputs": [],
   "source": []
  },
  {
   "cell_type": "code",
   "execution_count": 18,
   "id": "5917fb3c-337a-49f8-8c8f-baf146c62b7c",
   "metadata": {},
   "outputs": [],
   "source": [
    "def create_box_plot(data_frame, feature_list):\n",
    "    num_features = len(feature_list)\n",
    "    num_rows = (num_features + 1) // 2\n",
    "    \n",
    "    fig, axes = plt.subplots(num_rows, 2, figsize=(10,8))\n",
    "    \n",
    "    # Flatten the axes array for easy iteration\n",
    "    axes = axes.flatten()\n",
    "    \n",
    "    # Iterate over each feature and create a boxplot\n",
    "    for i, feature in enumerate(feature_list):\n",
    "        ax = axes[i]\n",
    "        sns.boxplot(data_frame[feature], color='skyblue',ax=ax, orient = \"h\")\n",
    "        ax.set_title(f'Distribution of {feature}')\n",
    "        ax.set_xlabel(feature)\n",
    "        ax.set_ylabel('Count')\n",
    "    plt.tight_layout()\n",
    "    plt.show()"
   ]
  },
  {
   "cell_type": "code",
   "execution_count": 19,
   "id": "44b7d699-146d-4d97-82ce-07e94145f99e",
   "metadata": {},
   "outputs": [
    {
     "data": {
      "image/png": "[encoded data removed]",
      "text/plain": [
       "<Figure size 1000x800 with 10 Axes>"
      ]
     },
     "metadata": {},
     "output_type": "display_data"
    }
   ],
   "source": [
    "create_box_plot(data_frame= data, feature_list= features)"
   ]
  },
  {
   "cell_type": "markdown",
   "id": "0df23a64-03ba-49bd-adfe-5e1ca87d4c90",
   "metadata": {},
   "source": [
    "**Observation**\n",
    "\n",
    "Features with outliers are: \n",
    "- Duration of credits (month)\n",
    "- Credit Amount\n",
    "- Age"
   ]
  },
  {
   "cell_type": "markdown",
   "id": "3a48a63a-05af-4c7d-99d7-2b0799c4f747",
   "metadata": {
    "tags": []
   },
   "source": [
    "## Remove Outliers"
   ]
  },
  {
   "cell_type": "code",
   "execution_count": 20,
   "id": "55da605a-0a0d-425c-bcd5-31b0879fc3a9",
   "metadata": {
    "tags": []
   },
   "outputs": [],
   "source": [
    "def remove_outliers(df, column_name):\n",
    "    # Calculate Q1 (25th percentile) and Q3 (75th percentile)\n",
    "    Q1 = df[column_name].quantile(0.25)\n",
    "    Q3 = df[column_name].quantile(0.75)\n",
    "    \n",
    "    # Calculate the IQR\n",
    "    IQR = Q3 - Q1\n",
    "    \n",
    "    # Define bounds for outliers\n",
    "    upper_bound = Q3 + 1.5 * IQR\n",
    "    \n",
    "    # Cap values above the upper bound at the upper bound\n",
    "    df[column_name] = df[column_name].apply(lambda x: min(x, upper_bound))\n",
    "    \n",
    "    return df"
   ]
  },
  {
   "cell_type": "code",
   "execution_count": null,
   "id": "75d3ef72-eb55-460c-975a-5ae01202e074",
   "metadata": {},
   "outputs": [],
   "source": []
  },
  {
   "cell_type": "code",
   "execution_count": 21,
   "id": "f5657605-90d2-43af-96ab-56fec2c0e3cc",
   "metadata": {
    "tags": []
   },
   "outputs": [],
   "source": [
    "data = remove_outliers(df= data, column_name=\"Duration of Credit (month)\")\n",
    "data = remove_outliers(df= data, column_name=\"Age\")\n",
    "data = remove_outliers(df= data, column_name=\"Credit Amount\")"
   ]
  },
  {
   "cell_type": "code",
   "execution_count": 22,
   "id": "f1c82161-f255-40e5-8b0b-19d61e74d49b",
   "metadata": {
    "tags": []
   },
   "outputs": [
    {
     "data": {
      "image/png": "[encoded data removed]",
      "text/plain": [
       "<Figure size 1000x800 with 4 Axes>"
      ]
     },
     "metadata": {},
     "output_type": "display_data"
    }
   ],
   "source": [
    "create_box_plot(data_frame=data, feature_list=[\"Duration of Credit (month)\",\"Age\",\"Credit Amount\"])"
   ]
  },
  {
   "cell_type": "code",
   "execution_count": null,
   "id": "f263137e-4c1c-41d9-999b-b354988eda0f",
   "metadata": {},
   "outputs": [],
   "source": []
  },
  {
   "cell_type": "markdown",
   "id": "52382b39-a155-4b9f-8a63-7701d7508a84",
   "metadata": {},
   "source": [
    "## Save final data"
   ]
  },
  {
   "cell_type": "code",
   "execution_count": 23,
   "id": "4cf79d0a-03a2-4667-a0d6-929a63f89a11",
   "metadata": {
    "tags": []
   },
   "outputs": [],
   "source": [
    "data.to_csv(\"../dataset/Clean_data.csv\", index = False)"
   ]
  },
  {
   "cell_type": "code",
   "execution_count": null,
   "id": "077415b5-df33-4168-86ff-4dddac1c3f62",
   "metadata": {},
   "outputs": [],
   "source": []
  },
  {
   "cell_type": "markdown",
   "id": "6b77a94b-c644-463c-93da-5a7c336f229b",
   "metadata": {},
   "source": [
    "## Data Cleaning Config"
   ]
  },
  {
   "cell_type": "markdown",
   "id": "9f4fe1f6-a829-4a2d-8aef-13f17ace7aff",
   "metadata": {},
   "source": [
    "- change nominal features to object string:\n",
    "    - \"Account type\",\n",
    "    - \"Purpose\",\n",
    "    - \"Savings type\",\n",
    "    - \"Type of apartment\",\n",
    "    - \"Marital Status\",\n",
    "    - \"Occupation\",\n",
    "    - \"Foreign Worker\"\n",
    "    \n",
    "    \n",
    "- ordinal categorical features:\n",
    "    - Payment Status of Previous Credit\n",
    "    - Most valuable available asset\n",
    "    \n",
    "    \n",
    "- Numerical features include:\n",
    "    - \"Duration of Credit (month)\"\n",
    "    - 'Credit Amount'\n",
    "    - 'Length of current employment'\n",
    "    - 'Instalment per cent'\n",
    "    - 'Guarantors'\n",
    "    - 'Duration in Current address'\n",
    "    - 'Age'\n",
    "    - 'Concurrent Credits'\n",
    "    - 'No of Credits at this Bank'\n",
    "    - 'No of dependents'\n",
    "    - 'labels'\n",
    "\n",
    "\n",
    "- Columns with outliers\n",
    "    - Duration of credits (month), \n",
    "    - Credit Amount, \n",
    "    - Age"
   ]
  },
  {
   "cell_type": "code",
   "execution_count": 24,
   "id": "d2f8a400-28d7-4344-95f0-cd67f2ca4901",
   "metadata": {
    "tags": []
   },
   "outputs": [
    {
     "data": {
      "text/plain": [
       "(1000, 20)"
      ]
     },
     "execution_count": 24,
     "metadata": {},
     "output_type": "execute_result"
    }
   ],
   "source": [
    "data.shape"
   ]
  },
  {
   "cell_type": "code",
   "execution_count": null,
   "id": "7bfe82f9-9328-4fd1-badf-3926600c0872",
   "metadata": {},
   "outputs": [],
   "source": []
  },
  {
   "cell_type": "code",
   "execution_count": null,
   "id": "1a98b85a-aeff-43ad-bc43-e98f56dd3ef3",
   "metadata": {},
   "outputs": [],
   "source": []
  },
  {
   "cell_type": "code",
   "execution_count": null,
   "id": "12da01b5-c29e-4334-9ce5-e4fe87eb8d4c",
   "metadata": {},
   "outputs": [],
   "source": []
  }
 ],
 "metadata": {
  "kernelspec": {
   "display_name": "Python 3 (ipykernel)",
   "language": "python",
   "name": "python3"
  },
  "language_info": {
   "codemirror_mode": {
    "name": "ipython",
    "version": 3
   },
   "file_extension": ".py",
   "mimetype": "text/x-python",
   "name": "python",
   "nbconvert_exporter": "python",
   "pygments_lexer": "ipython3",
   "version": "3.11.5"
  }
 },
 "nbformat": 4,
 "nbformat_minor": 5
}
